{
  "nbformat": 4,
  "nbformat_minor": 0,
  "metadata": {
    "colab": {
      "provenance": []
    },
    "kernelspec": {
      "name": "python3",
      "display_name": "Python 3"
    },
    "language_info": {
      "name": "python"
    }
  },
  "cells": [
    {
      "cell_type": "code",
      "execution_count": null,
      "metadata": {
        "id": "9jd5Qr6LxKuK"
      },
      "outputs": [],
      "source": [
        "edad = int(input(\"Por favor, ingrese su edad: \"))\n",
        "\n",
        "# Verificar si la persona es mayor o menor de edad\n",
        "if edad >= 18:\n",
        "    print(\"Eres mayor de edad.\")\n",
        "else:\n",
        "    print(\"Eres menor de edad.\")\n"
      ]
    }
  ]
}